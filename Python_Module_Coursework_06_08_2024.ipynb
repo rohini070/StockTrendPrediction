{
  "nbformat": 4,
  "nbformat_minor": 0,
  "metadata": {
    "colab": {
      "provenance": [],
      "authorship_tag": "ABX9TyO9O9f2DuII29Wo5QqNHwI+",
      "include_colab_link": true
    },
    "kernelspec": {
      "name": "python3",
      "display_name": "Python 3"
    },
    "language_info": {
      "name": "python"
    }
  },
  "cells": [
    {
      "cell_type": "markdown",
      "metadata": {
        "id": "view-in-github",
        "colab_type": "text"
      },
      "source": [
        "<a href=\"https://colab.research.google.com/github/rohini070/StockTrendPrediction/blob/main/Python_Module_Coursework_06_08_2024.ipynb\" target=\"_parent\"><img src=\"https://colab.research.google.com/assets/colab-badge.svg\" alt=\"Open In Colab\"/></a>"
      ]
    },
    {
      "cell_type": "code",
      "execution_count": 2,
      "metadata": {
        "colab": {
          "base_uri": "https://localhost:8080/"
        },
        "id": "hjMd7YMfb9Cu",
        "outputId": "65a63dbb-1f44-41ad-a515-dd891a46c772"
      },
      "outputs": [
        {
          "output_type": "stream",
          "name": "stdout",
          "text": [
            "24\n"
          ]
        }
      ],
      "source": [
        "#Python program to multiply all the items in a list.\n",
        "\n",
        "def multiply_list(lst):\n",
        "    result = 1\n",
        "    for num in lst:\n",
        "        result *= num\n",
        "    return result\n",
        "\n",
        "\n",
        "lst = [1, 2, 3, 4]\n",
        "print(multiply_list(lst))\n"
      ]
    },
    {
      "cell_type": "code",
      "source": [
        " #Python program to get the largest number from a list.\n",
        "def get_largest_number(lst):\n",
        "    return max(lst)\n",
        "\n",
        "\n",
        "lst = [1, 2, 3, 4]\n",
        "print(get_largest_number(lst))\n",
        "\n",
        "\n"
      ],
      "metadata": {
        "colab": {
          "base_uri": "https://localhost:8080/"
        },
        "id": "jliZ2ZIucBat",
        "outputId": "33d5a2ac-7e73-4044-b824-c840044a3402"
      },
      "execution_count": 3,
      "outputs": [
        {
          "output_type": "stream",
          "name": "stdout",
          "text": [
            "4\n"
          ]
        }
      ]
    },
    {
      "cell_type": "code",
      "source": [
        "#Python program to get the smallest number from a list\n",
        "def get_smallest_number(lst):\n",
        "    return min(lst)\n",
        "\n",
        "\n",
        "lst = [1, 2, 3, 4]\n",
        "print(get_smallest_number(lst))\n"
      ],
      "metadata": {
        "colab": {
          "base_uri": "https://localhost:8080/"
        },
        "id": "dBq3orajclL8",
        "outputId": "1d126987-af11-45bb-f924-cb911d146cb9"
      },
      "execution_count": 4,
      "outputs": [
        {
          "output_type": "stream",
          "name": "stdout",
          "text": [
            "1\n"
          ]
        }
      ]
    },
    {
      "cell_type": "code",
      "source": [
        "#Python program to get a list, sorted in increasing order by the last element in each tuple from a given list of non-empty tuples.\n",
        "def sort_by_last_element(tuples_list):\n",
        "    return sorted(tuples_list, key=lambda x: x[-1])\n",
        "\n",
        "tuples_list = [(1, 3), (3, 2), (2, 1)]\n",
        "print(sort_by_last_element(tuples_list))\n"
      ],
      "metadata": {
        "colab": {
          "base_uri": "https://localhost:8080/"
        },
        "id": "AVkqn6g4clO7",
        "outputId": "0b3c5f5d-a3bc-4722-8eb7-9bdf819c4b6a"
      },
      "execution_count": 5,
      "outputs": [
        {
          "output_type": "stream",
          "name": "stdout",
          "text": [
            "[(2, 1), (3, 2), (1, 3)]\n"
          ]
        }
      ]
    },
    {
      "cell_type": "code",
      "source": [
        "#Python program to remove duplicates from a list.\n",
        "def remove_duplicates(lst):\n",
        "    return list(set(lst))\n",
        "\n",
        "\n",
        "lst = [1, 2, 2, 3, 4, 4, 5]\n",
        "print(remove_duplicates(lst))\n"
      ],
      "metadata": {
        "colab": {
          "base_uri": "https://localhost:8080/"
        },
        "id": "aftvofzfclRz",
        "outputId": "3ba49816-27ce-4b8b-c90d-d907dd4a0c28"
      },
      "execution_count": 6,
      "outputs": [
        {
          "output_type": "stream",
          "name": "stdout",
          "text": [
            "[1, 2, 3, 4, 5]\n"
          ]
        }
      ]
    },
    {
      "cell_type": "code",
      "source": [
        "#Python program to check if a list is empty or not.\n",
        "def is_list_empty(lst):\n",
        "    return len(lst) == 0\n",
        "\n",
        "\n",
        "lst = []\n",
        "print(is_list_empty(lst))\n"
      ],
      "metadata": {
        "colab": {
          "base_uri": "https://localhost:8080/"
        },
        "id": "gvSjAh6kclUx",
        "outputId": "fd31cb97-ad76-49dd-a007-d12241baa3d0"
      },
      "execution_count": 7,
      "outputs": [
        {
          "output_type": "stream",
          "name": "stdout",
          "text": [
            "True\n"
          ]
        }
      ]
    },
    {
      "cell_type": "code",
      "source": [
        "#Python program to count the lowercase letters in a given list of word\n",
        "def count_lowercase_letters(words):\n",
        "    count = 0\n",
        "    for word in words:\n",
        "        for char in word:\n",
        "            if char.islower():\n",
        "                count += 1\n",
        "    return count\n",
        "\n",
        "\n",
        "words = ['Hello', 'World']\n",
        "print(count_lowercase_letters(words))\n",
        "\n"
      ],
      "metadata": {
        "colab": {
          "base_uri": "https://localhost:8080/"
        },
        "id": "npxG8K8WclYK",
        "outputId": "8bf22661-838b-4c8b-c357-6e24b4fd424e"
      },
      "execution_count": 8,
      "outputs": [
        {
          "output_type": "stream",
          "name": "stdout",
          "text": [
            "8\n"
          ]
        }
      ]
    },
    {
      "cell_type": "code",
      "source": [
        "#Python program to extract specified number of elements from a given list, which follows each other continuously.\n",
        "def extract_continuous_elements(lst, n):\n",
        "    result = []\n",
        "    for i in range(len(lst) - n + 1):\n",
        "        if len(set(lst[i:i+n])) == 1:\n",
        "            result.append(lst[i])\n",
        "    return list(set(result))\n",
        "\n",
        "\n",
        "lst1 = [1, 1, 3, 4, 4, 5, 6, 7]\n",
        "print(extract_continuous_elements(lst1, 2))  # Output: [1, 4]\n",
        "\n",
        "lst2 = [0, 1, 2, 3, 4, 4, 4, 4, 5, 7]\n",
        "print(extract_continuous_elements(lst2, 4))  # Output: [4]\n"
      ],
      "metadata": {
        "colab": {
          "base_uri": "https://localhost:8080/"
        },
        "id": "IO_sR4KWcByo",
        "outputId": "0d30722f-bd3c-44ea-e100-3d52dd5bf336"
      },
      "execution_count": 9,
      "outputs": [
        {
          "output_type": "stream",
          "name": "stdout",
          "text": [
            "[1, 4]\n",
            "[4]\n"
          ]
        }
      ]
    },
    {
      "cell_type": "code",
      "source": [
        "#Python program to find the largest odd number in a given list of integers.\n",
        "def largest_odd_number(lst):\n",
        "    odds = [num for num in lst if num % 2 != 0]\n",
        "    return max(odds) if odds else None\n",
        "\n",
        "\n",
        "lst = [0, 9, 2, 4, 5, 6]\n",
        "print(largest_odd_number(lst))\n"
      ],
      "metadata": {
        "colab": {
          "base_uri": "https://localhost:8080/"
        },
        "id": "FqxrIzBmeTma",
        "outputId": "e35e4117-8676-411e-d3ae-dfb6dce3c842"
      },
      "execution_count": 10,
      "outputs": [
        {
          "output_type": "stream",
          "name": "stdout",
          "text": [
            "9\n"
          ]
        }
      ]
    },
    {
      "cell_type": "code",
      "source": [
        "#Write a Python program to print a specified list after removing the 0th, 4th and 5th elements.\n",
        "def remove_specific_elements(lst):\n",
        "    return [lst[i] for i in range(len(lst)) if i not in [0, 4, 5]]\n",
        "\n",
        "\n",
        "lst = ['A', 'B', 'C', 'D', 'E', 'F']\n",
        "print(remove_specific_elements(lst))\n"
      ],
      "metadata": {
        "colab": {
          "base_uri": "https://localhost:8080/"
        },
        "id": "79qmMd7qeTo0",
        "outputId": "d17bd8eb-c002-4dfb-8012-4cf52d609509"
      },
      "execution_count": 11,
      "outputs": [
        {
          "output_type": "stream",
          "name": "stdout",
          "text": [
            "['B', 'C', 'D']\n"
          ]
        }
      ]
    },
    {
      "cell_type": "code",
      "source": [
        "#TASK 2 Python program to create a tuple with different data types.\n",
        "my_tuple = (1, \"yup\", 3.1, True)\n",
        "print(my_tuple)\n"
      ],
      "metadata": {
        "colab": {
          "base_uri": "https://localhost:8080/"
        },
        "id": "06zjR6TueTrV",
        "outputId": "79fca731-cc87-4e00-ffc5-d64c6490b339"
      },
      "execution_count": 13,
      "outputs": [
        {
          "output_type": "stream",
          "name": "stdout",
          "text": [
            "(1, 'yup', 3.1, True)\n"
          ]
        }
      ]
    },
    {
      "cell_type": "code",
      "source": [
        "#Python program to create a tuple of numbers and print one item.\n",
        "numbers = (1, 2, 3, 4, 5)\n",
        "print(numbers[2])  # Prints the third item\n"
      ],
      "metadata": {
        "colab": {
          "base_uri": "https://localhost:8080/"
        },
        "id": "fsGZhSxCeTt_",
        "outputId": "a0050f97-4719-49c2-eda8-81cd3654e323"
      },
      "execution_count": 14,
      "outputs": [
        {
          "output_type": "stream",
          "name": "stdout",
          "text": [
            "3\n"
          ]
        }
      ]
    },
    {
      "cell_type": "code",
      "source": [
        "#Python program to add an item to a tuple.\n",
        "def add_item_to_tuple(tpl, item):\n",
        "    return tpl + (item,)\n",
        "\n",
        "\n",
        "tpl = (1, 2, 3)\n",
        "print(add_item_to_tuple(tpl, 4))\n"
      ],
      "metadata": {
        "colab": {
          "base_uri": "https://localhost:8080/"
        },
        "id": "3Qs9-XgNe6o8",
        "outputId": "9bb90f32-c98a-478a-c183-d6b28dd33c61"
      },
      "execution_count": 15,
      "outputs": [
        {
          "output_type": "stream",
          "name": "stdout",
          "text": [
            "(1, 2, 3, 4)\n"
          ]
        }
      ]
    },
    {
      "cell_type": "code",
      "source": [
        "#Python program to get the 4th element from the last element of a Tuple.\n",
        "tpl = (1, 2, 3, 4, 5, 6, 7, 8, 9, 10)\n",
        "print(tpl[-4])\n",
        "\n"
      ],
      "metadata": {
        "colab": {
          "base_uri": "https://localhost:8080/"
        },
        "id": "Efw9JWKue6rm",
        "outputId": "a0e41978-1748-46ca-d46b-cde79d02fa77"
      },
      "execution_count": 16,
      "outputs": [
        {
          "output_type": "stream",
          "name": "stdout",
          "text": [
            "7\n"
          ]
        }
      ]
    },
    {
      "cell_type": "code",
      "source": [
        "#Python program to convert a tuple to a dictionary.\n",
        "def tuple_to_dict(tpl):\n",
        "    return {tpl[i]: tpl[i+1] for i in range(0, len(tpl), 2)}\n",
        "\n",
        "\n",
        "tpl = ('a', 1, 'b', 2, 'c', 3)\n",
        "print(tuple_to_dict(tpl))\n"
      ],
      "metadata": {
        "colab": {
          "base_uri": "https://localhost:8080/"
        },
        "id": "KC_SlzT0e6ug",
        "outputId": "681a2e27-427b-49c9-c298-c2a354c27346"
      },
      "execution_count": 17,
      "outputs": [
        {
          "output_type": "stream",
          "name": "stdout",
          "text": [
            "{'a': 1, 'b': 2, 'c': 3}\n"
          ]
        }
      ]
    },
    {
      "cell_type": "code",
      "source": [
        "#Python program to replace the last value of tuples in a list.\n",
        "def replace_last_value(tuples_list, new_value):\n",
        "    return [tpl[:-1] + (new_value,) for tpl in tuples_list]\n",
        "\n",
        "\n",
        "tuples_list = [(10, 20, 40), (40, 50, 60), (70, 80, 90)]\n",
        "print(replace_last_value(tuples_list, 100))\n"
      ],
      "metadata": {
        "colab": {
          "base_uri": "https://localhost:8080/"
        },
        "id": "DWuRSMJZe6xu",
        "outputId": "5b0d055e-7dbd-4ed1-ad3d-ede1fc3a3108"
      },
      "execution_count": 18,
      "outputs": [
        {
          "output_type": "stream",
          "name": "stdout",
          "text": [
            "[(10, 20, 100), (40, 50, 100), (70, 80, 100)]\n"
          ]
        }
      ]
    },
    {
      "cell_type": "code",
      "source": [
        "#TASK 3 - Python script to sort (ascending and descending) a dictionary by value.\n",
        "def sort_dict_by_value(d, reverse=False):\n",
        "    return dict(sorted(d.items(), key=lambda item: item[1], reverse=reverse))\n",
        "\n",
        "\n",
        "d = {'a': 2, 'b': 3, 'c': 1}\n",
        "print(sort_dict_by_value(d))  # Ascending\n",
        "print(sort_dict_by_value(d, True))  # Descending\n"
      ],
      "metadata": {
        "colab": {
          "base_uri": "https://localhost:8080/"
        },
        "id": "iAPi-uOVe61K",
        "outputId": "4ecc09d9-5fea-4bf9-8dc9-1f0dcc684424"
      },
      "execution_count": 19,
      "outputs": [
        {
          "output_type": "stream",
          "name": "stdout",
          "text": [
            "{'c': 1, 'a': 2, 'b': 3}\n",
            "{'b': 3, 'a': 2, 'c': 1}\n"
          ]
        }
      ]
    },
    {
      "cell_type": "code",
      "source": [
        "#Python program to iterate over dictionaries using for loops.\n",
        "def iterate_dict(d):\n",
        "    for key, value in d.items():\n",
        "        print(f\"{key}: {value}\")\n",
        "\n",
        "\n",
        "d = {'a': 1, 'b': 2, 'c': 3}\n",
        "iterate_dict(d)\n"
      ],
      "metadata": {
        "colab": {
          "base_uri": "https://localhost:8080/"
        },
        "id": "2Q7lDLQ-eTxl",
        "outputId": "6bcb3b78-d6b4-490f-bcdd-bea84591cab2"
      },
      "execution_count": 20,
      "outputs": [
        {
          "output_type": "stream",
          "name": "stdout",
          "text": [
            "a: 1\n",
            "b: 2\n",
            "c: 3\n"
          ]
        }
      ]
    },
    {
      "cell_type": "code",
      "source": [
        "#Python script to merge two Python dictionaries.\n",
        "def merge_dicts(d1, d2):\n",
        "    return {**d1, **d2}\n",
        "\n",
        "d1 = {'a': 1, 'b': 2}\n",
        "d2 = {'c': 3, 'd': 4}\n",
        "print(merge_dicts(d1, d2))\n"
      ],
      "metadata": {
        "colab": {
          "base_uri": "https://localhost:8080/"
        },
        "id": "dv3MO7kgcB9D",
        "outputId": "4e5a5b86-7979-4276-a1b0-cf0afa10cbc2"
      },
      "execution_count": 21,
      "outputs": [
        {
          "output_type": "stream",
          "name": "stdout",
          "text": [
            "{'a': 1, 'b': 2, 'c': 3, 'd': 4}\n"
          ]
        }
      ]
    },
    {
      "cell_type": "code",
      "source": [
        "#Python program to sum all the items in a dictionary.\n",
        "def sum_dict_items(d):\n",
        "    return sum(d.values())\n",
        "\n",
        "d = {'a': 1, 'b': 2, 'c': 3}\n",
        "print(sum_dict_items(d))\n"
      ],
      "metadata": {
        "colab": {
          "base_uri": "https://localhost:8080/"
        },
        "id": "XGHXrXyqgbmP",
        "outputId": "7231332d-93cb-4d0f-d39c-bbe353b7141c"
      },
      "execution_count": 22,
      "outputs": [
        {
          "output_type": "stream",
          "name": "stdout",
          "text": [
            "6\n"
          ]
        }
      ]
    },
    {
      "cell_type": "code",
      "source": [
        "#Python program to multiply all the items in a dictionary.\n",
        "def multiply_dict_items(d):\n",
        "    result = 1\n",
        "    for value in d.values():\n",
        "        result *= value\n",
        "    return result\n",
        "\n",
        "\n",
        "d = {'a': 1, 'b': 2, 'c': 3}\n",
        "print(multiply_dict_items(d))\n"
      ],
      "metadata": {
        "colab": {
          "base_uri": "https://localhost:8080/"
        },
        "id": "TSyeBBmpgboh",
        "outputId": "13ab492b-0664-4359-a126-19d9ac42f5a0"
      },
      "execution_count": 23,
      "outputs": [
        {
          "output_type": "stream",
          "name": "stdout",
          "text": [
            "6\n"
          ]
        }
      ]
    },
    {
      "cell_type": "code",
      "source": [
        "#Python program to sort a given dictionary by key.\n",
        "def sort_dict_by_key(d):\n",
        "    return dict(sorted(d.items()))\n",
        "\n",
        "\n",
        "d = {'b': 2, 'a': 1, 'c': 3}\n",
        "print(sort_dict_by_key(d))\n"
      ],
      "metadata": {
        "colab": {
          "base_uri": "https://localhost:8080/"
        },
        "id": "iSrACW_Ygbrx",
        "outputId": "c6eb3f44-5968-4611-d56f-65e5aaae46fe"
      },
      "execution_count": 24,
      "outputs": [
        {
          "output_type": "stream",
          "name": "stdout",
          "text": [
            "{'a': 1, 'b': 2, 'c': 3}\n"
          ]
        }
      ]
    },
    {
      "cell_type": "code",
      "source": [
        "#Python program to remove duplicates from the dictionary.\n",
        "def remove_duplicates(d):\n",
        "    return dict.fromkeys(d)\n",
        "\n",
        "# Example usage\n",
        "d = {'a': 1, 'b': 2, 'c': 2, 'd': 1}\n",
        "print(remove_duplicates(d))\n"
      ],
      "metadata": {
        "colab": {
          "base_uri": "https://localhost:8080/"
        },
        "id": "Fx4bGFuGgbvc",
        "outputId": "38f2d964-5590-4d0f-8380-c2bababc19ce"
      },
      "execution_count": 25,
      "outputs": [
        {
          "output_type": "stream",
          "name": "stdout",
          "text": [
            "{'a': None, 'b': None, 'c': None, 'd': None}\n"
          ]
        }
      ]
    },
    {
      "cell_type": "code",
      "source": [
        "#TASK 4 NUMPY\n",
        "#1: Numpy array creation and manipulation\n",
        "\n",
        "import numpy as np\n",
        "\n",
        "# Create a 1D Numpy array \"a\" containing 10 random integers between 0 and 99\n",
        "a = np.random.randint(0, 100, 10)\n",
        "\n",
        "# Create a 2D Numpy array \"b\" of shape (3, 4) containing random integers between -10 and 10\n",
        "b = np.random.randint(-10, 10, (3, 4))\n",
        "\n",
        "# Reshape \"b\" into a 1D Numpy array \"b_flat\"\n",
        "b_flat = b.flatten()\n",
        "\n",
        "# Create a copy of \"a\" called \"a_copy\", and set the first element of \"a_copy\" to -1\n",
        "a_copy = a.copy()\n",
        "a_copy[0] = -1\n",
        "\n",
        "# Create a 1D Numpy array \"c\" containing every second element of \"a\"\n",
        "c = a[::2]\n",
        "\n",
        "print(\"Array a:\", a)\n",
        "print(\"Array b:\", b)\n",
        "print(\"Flattened array b_flat:\", b_flat)\n",
        "print(\"Copy of array a with first element set to -1:\", a_copy)\n",
        "print(\"Every second element of array a:\", c)\n"
      ],
      "metadata": {
        "colab": {
          "base_uri": "https://localhost:8080/"
        },
        "id": "n0dRxF4yg8P3",
        "outputId": "8222c636-c1db-4113-bf3f-2d913db578d3"
      },
      "execution_count": 27,
      "outputs": [
        {
          "output_type": "stream",
          "name": "stdout",
          "text": [
            "Array a: [29 60 36 53 34 47 45 86 61 60]\n",
            "Array b: [[ 1  6 -6  6]\n",
            " [-5  4  9 -6]\n",
            " [-4 -6 -6  2]]\n",
            "Flattened array b_flat: [ 1  6 -6  6 -5  4  9 -6 -4 -6 -6  2]\n",
            "Copy of array a with first element set to -1: [-1 60 36 53 34 47 45 86 61 60]\n",
            "Every second element of array a: [29 36 34 45 61]\n"
          ]
        }
      ]
    },
    {
      "cell_type": "code",
      "source": [
        "#2: Numpy array indexing and slicing\n",
        "# Print the third element of \"a\"\n",
        "print(\"Third element of a:\", a[2])\n",
        "\n",
        "# Print the last element of \"b\"\n",
        "print(\"Last element of b:\", b[-1, -1])\n",
        "\n",
        "# Print the second and third rows of \"b\"\n",
        "print(\"Second and third rows of b:\\n\", b[1:3])\n"
      ],
      "metadata": {
        "colab": {
          "base_uri": "https://localhost:8080/"
        },
        "id": "8Zon99-Ag8Te",
        "outputId": "bb8086b0-319d-440a-af16-b12d44eb92fb"
      },
      "execution_count": 28,
      "outputs": [
        {
          "output_type": "stream",
          "name": "stdout",
          "text": [
            "Third element of a: 36\n",
            "Last element of b: 2\n",
            "Second and third rows of b:\n",
            " [[-5  4  9 -6]\n",
            " [-4 -6 -6  2]]\n"
          ]
        }
      ]
    },
    {
      "cell_type": "code",
      "source": [
        "# 3: Numpy array operations\n",
        "# Create a 1D Numpy array \"d\" containing 10 random integers between 0 and 99\n",
        "d = np.random.randint(0, 100, 10)\n",
        "\n",
        "# Add \"a\" and \"d\" to create a new array \"e\"\n",
        "e = a + d\n",
        "\n",
        "# Multiply \"a\" and \"d\" element-wise to create a new array \"f\"\n",
        "f = a * d\n",
        "\n",
        "# Calculate the dot product of \"a\" and \"d\"\n",
        "dot_product = np.dot(a, d)\n",
        "\n",
        "print(\"Array d:\", d)\n",
        "print(\"Array e (a + d):\", e)\n",
        "print(\"Array f (a * d):\", f)\n",
        "print(\"Dot product of a and d:\", dot_product)\n"
      ],
      "metadata": {
        "colab": {
          "base_uri": "https://localhost:8080/"
        },
        "id": "uoqMflUSg8XG",
        "outputId": "052ce6f9-0979-47be-eab7-f4d60ed12541"
      },
      "execution_count": 29,
      "outputs": [
        {
          "output_type": "stream",
          "name": "stdout",
          "text": [
            "Array d: [75  7 93 52 17 83 85  0 26 43]\n",
            "Array e (a + d): [104  67 129 105  51 130 130  86  87 103]\n",
            "Array f (a * d): [2175  420 3348 2756  578 3901 3825    0 1586 2580]\n",
            "Dot product of a and d: 21169\n"
          ]
        }
      ]
    },
    {
      "cell_type": "code",
      "source": [
        "#4: Numpy array aggregation\n",
        "import numpy as np\n",
        "\n",
        "# Sum of every element in \"a\"\n",
        "a_sum = np.sum(a)\n",
        "\n",
        "# Minimum element in \"b\"\n",
        "b_min = np.min(b)\n",
        "\n",
        "# Double the elements in \"b\" and then find the maximum element\n",
        "b_double = b * 2\n",
        "b_double_max = np.max(b_double)\n",
        "\n",
        "# Print the results\n",
        "print(\"Array a:\", a)\n",
        "print(\"Sum of elements in a:\", a_sum)\n",
        "print(\"Array b:\\n\", b)\n",
        "print(\"Minimum element in b:\", b_min)\n",
        "print(\"Array b_double (b * 2):\\n\", b_double)\n",
        "print(\"Maximum element in b_double:\", b_double_max)\n"
      ],
      "metadata": {
        "colab": {
          "base_uri": "https://localhost:8080/"
        },
        "id": "3fcBhDOQhiK-",
        "outputId": "6a8829b4-31da-445f-a616-853b791e0289"
      },
      "execution_count": 30,
      "outputs": [
        {
          "output_type": "stream",
          "name": "stdout",
          "text": [
            "Array a: [29 60 36 53 34 47 45 86 61 60]\n",
            "Sum of elements in a: 511\n",
            "Array b:\n",
            " [[ 1  6 -6  6]\n",
            " [-5  4  9 -6]\n",
            " [-4 -6 -6  2]]\n",
            "Minimum element in b: -6\n",
            "Array b_double (b * 2):\n",
            " [[  2  12 -12  12]\n",
            " [-10   8  18 -12]\n",
            " [ -8 -12 -12   4]]\n",
            "Maximum element in b_double: 18\n"
          ]
        }
      ]
    },
    {
      "cell_type": "code",
      "source": [
        "#Task 5: Pandas\n",
        "# Mount Google Drive\n",
        "from google.colab import drive\n",
        "drive.mount('/content/drive')\n",
        "\n"
      ],
      "metadata": {
        "colab": {
          "base_uri": "https://localhost:8080/"
        },
        "collapsed": true,
        "id": "IeTRWulQg8bT",
        "outputId": "b2931b92-5b12-4c0e-f3e2-47427842184d"
      },
      "execution_count": 32,
      "outputs": [
        {
          "output_type": "stream",
          "name": "stdout",
          "text": [
            "Mounted at /content/drive\n"
          ]
        }
      ]
    },
    {
      "cell_type": "code",
      "source": [
        "import pandas as pd\n",
        "\n",
        "# Load the dataset from Google Drive\n",
        "file_path = '//content/drive/MyDrive/Copy of Sport_car_price[1].csv'\n",
        "df = pd.read_csv(file_path)\n",
        "\n",
        "# Display the first 5 rows\n",
        "print(df.head())\n"
      ],
      "metadata": {
        "colab": {
          "base_uri": "https://localhost:8080/"
        },
        "id": "klLAa8Lqg8ex",
        "outputId": "09244d45-e0a9-4423-b3f7-a2d0df18bf01"
      },
      "execution_count": 34,
      "outputs": [
        {
          "output_type": "stream",
          "name": "stdout",
          "text": [
            "      Car Make Car Model  Year Engine Size (L) Horsepower Torque (lb-ft)  \\\n",
            "0      Porsche       911  2022               3        379            331   \n",
            "1  Lamborghini   Huracan  2021             5.2        630            443   \n",
            "2      Ferrari   488 GTB  2022             3.9        661            561   \n",
            "3         Audi        R8  2022             5.2        562            406   \n",
            "4      McLaren      720S  2021               4        710            568   \n",
            "\n",
            "  0-60 MPH Time (seconds) Price (in USD)  \n",
            "0                       4        101,200  \n",
            "1                     2.8        274,390  \n",
            "2                       3        333,750  \n",
            "3                     3.2        142,700  \n",
            "4                     2.7        298,000  \n"
          ]
        }
      ]
    },
    {
      "cell_type": "code",
      "source": [
        "\n",
        "\n",
        "# Step 2: Identify and Remove Missing Values\n",
        "print(\"Missing values before cleaning:\\n\", df.isna().sum())\n",
        "df = df.dropna()\n",
        "print(\"Missing values after cleaning:\\n\", df.isna().sum())\n",
        "\n",
        "# Step 3: Remove Duplicate Values\n",
        "print(\"Number of duplicate rows before cleaning:\", df.duplicated().sum())\n",
        "df = df.drop_duplicates()\n",
        "print(\"Number of duplicate rows after cleaning:\", df.duplicated().sum())\n",
        "\n",
        "\n",
        "\n"
      ],
      "metadata": {
        "colab": {
          "base_uri": "https://localhost:8080/"
        },
        "id": "MkO-zXPGg8jg",
        "outputId": "7590743d-57c0-43e6-9f3c-abc7b0146a96"
      },
      "execution_count": 40,
      "outputs": [
        {
          "output_type": "stream",
          "name": "stdout",
          "text": [
            "Missing values before cleaning:\n",
            " Car Make                   0\n",
            "Car Model                  0\n",
            "Year                       0\n",
            "Engine Size (L)            0\n",
            "Horsepower                 0\n",
            "Torque (lb-ft)             0\n",
            "0-60 MPH Time (seconds)    0\n",
            "Price (in USD)             0\n",
            "dtype: int64\n",
            "Missing values after cleaning:\n",
            " Car Make                   0\n",
            "Car Model                  0\n",
            "Year                       0\n",
            "Engine Size (L)            0\n",
            "Horsepower                 0\n",
            "Torque (lb-ft)             0\n",
            "0-60 MPH Time (seconds)    0\n",
            "Price (in USD)             0\n",
            "dtype: int64\n",
            "Number of duplicate rows before cleaning: 0\n",
            "Number of duplicate rows after cleaning: 0\n"
          ]
        }
      ]
    },
    {
      "cell_type": "code",
      "source": [
        "# Step 4: Convert non-numeric data to numeric data where appropriate\n",
        "\n",
        "import pandas as pd\n",
        "\n",
        "# Load the DataFrame\n",
        "df = pd.read_csv('/content/drive/MyDrive/Copy of Sport_car_price[1].csv')\n",
        "\n",
        "# Clean column names\n",
        "df.columns = df.columns.str.strip()\n",
        "\n",
        "# Remove commas from 'Price (in USD)' and convert to numeric\n",
        "df['Price (in USD)'] = df['Price (in USD)'].str.replace(',', '').astype(float)\n",
        "\n",
        "# Convert 'Horsepower' and '0-60 MPH Time (seconds)' to numeric\n",
        "df['Horsepower'] = pd.to_numeric(df['Horsepower'], errors='coerce')\n",
        "df['0-60 MPH Time (seconds)'] = pd.to_numeric(df['0-60 MPH Time (seconds)'], errors='coerce')\n",
        "\n",
        "# Drop rows with NaN values after conversion\n",
        "df = df.dropna()"
      ],
      "metadata": {
        "id": "iGfWncCbgbyy"
      },
      "execution_count": 57,
      "outputs": []
    },
    {
      "cell_type": "code",
      "source": [
        "# Summary statistics for all columns\n",
        "summary_stats = df.describe(include='all')\n",
        "print(\"Summary statistics:\\n\", summary_stats)\n",
        "\n",
        "# Additional statistics for numeric columns only\n",
        "numeric_cols = df.select_dtypes(include='number').columns\n",
        "\n",
        "# Mode\n",
        "df_mode = df[numeric_cols].mode().iloc[0]\n",
        "print(f\"Mode:\\n{df_mode}\\n\")\n",
        "\n",
        "# Range\n",
        "df_range = df[numeric_cols].max() - df[numeric_cols].min()\n",
        "print(f\"Range:\\n{df_range}\\n\")\n",
        "\n"
      ],
      "metadata": {
        "colab": {
          "base_uri": "https://localhost:8080/"
        },
        "id": "TJz5cq6IlQSl",
        "outputId": "455e63d4-c4a1-48c2-aa08-28ca49b6b759"
      },
      "execution_count": 58,
      "outputs": [
        {
          "output_type": "stream",
          "name": "stdout",
          "text": [
            "Summary statistics:\n",
            "        Car Make Car Model         Year Engine Size (L)   Horsepower  \\\n",
            "count       988       988   988.000000             988   988.000000   \n",
            "unique       38       176          NaN              43          NaN   \n",
            "top     Porsche        GT          NaN               4          NaN   \n",
            "freq         86        55          NaN             219          NaN   \n",
            "mean        NaN       NaN  2021.190283             NaN   621.005061   \n",
            "std         NaN       NaN     2.036204             NaN   289.039346   \n",
            "min         NaN       NaN  1965.000000             NaN   181.000000   \n",
            "25%         NaN       NaN  2021.000000             NaN   454.000000   \n",
            "50%         NaN       NaN  2021.000000             NaN   591.000000   \n",
            "75%         NaN       NaN  2022.000000             NaN   671.000000   \n",
            "max         NaN       NaN  2023.000000             NaN  2000.000000   \n",
            "\n",
            "       Torque (lb-ft)  0-60 MPH Time (seconds)  Price (in USD)  \n",
            "count             988               988.000000    9.880000e+02  \n",
            "unique             87                      NaN             NaN  \n",
            "top               590                      NaN             NaN  \n",
            "freq               71                      NaN             NaN  \n",
            "mean              NaN                 3.539848    3.738884e+05  \n",
            "std               NaN                 0.758124    7.281047e+05  \n",
            "min               NaN                 1.800000    2.500000e+04  \n",
            "25%               NaN                 3.000000    7.180000e+04  \n",
            "50%               NaN                 3.500000    1.343000e+05  \n",
            "75%               NaN                 4.000000    2.500000e+05  \n",
            "max               NaN                 6.500000    5.200000e+06  \n",
            "Mode:\n",
            "Year                         2021.0\n",
            "Horsepower                    503.0\n",
            "0-60 MPH Time (seconds)         3.5\n",
            "Price (in USD)             500000.0\n",
            "Name: 0, dtype: float64\n",
            "\n",
            "Range:\n",
            "Year                            58.0\n",
            "Horsepower                    1819.0\n",
            "0-60 MPH Time (seconds)          4.7\n",
            "Price (in USD)             5175000.0\n",
            "dtype: float64\n",
            "\n"
          ]
        }
      ]
    },
    {
      "cell_type": "code",
      "source": [
        "# Verify column names\n",
        "print(df.columns)\n",
        "\n",
        "# Group by car make and compute the average price\n",
        "if 'Make' in df.columns and 'Price' in df.columns:\n",
        "    avg_price_by_make = df.groupby('Make')['Price'].mean()\n",
        "    print(avg_price_by_make)\n",
        "else:\n",
        "    print(\"The columns 'Make' or 'Price' do not exist in the DataFrame.\")\n"
      ],
      "metadata": {
        "colab": {
          "base_uri": "https://localhost:8080/"
        },
        "id": "sIfxVySElQWI",
        "outputId": "f0cc2ff3-b609-4f1b-f7b0-6b06a599cee5"
      },
      "execution_count": 59,
      "outputs": [
        {
          "output_type": "stream",
          "name": "stdout",
          "text": [
            "Index(['Car Make', 'Car Model', 'Year', 'Engine Size (L)', 'Horsepower',\n",
            "       'Torque (lb-ft)', '0-60 MPH Time (seconds)', 'Price (in USD)'],\n",
            "      dtype='object')\n",
            "The columns 'Make' or 'Price' do not exist in the DataFrame.\n"
          ]
        }
      ]
    },
    {
      "cell_type": "code",
      "source": [
        "#Group by year and compute the average horsepower\n",
        "avg_hp_by_year = df.groupby('Year')['Horsepower'].mean()\n",
        "print(avg_hp_by_year)\n"
      ],
      "metadata": {
        "colab": {
          "base_uri": "https://localhost:8080/"
        },
        "id": "ZCvkojXalQfQ",
        "outputId": "d35e9dab-0b7f-4316-ce60-5f9e898c0050"
      },
      "execution_count": 60,
      "outputs": [
        {
          "output_type": "stream",
          "name": "stdout",
          "text": [
            "Year\n",
            "1965    435.000000\n",
            "2014    622.000000\n",
            "2015    650.750000\n",
            "2017    645.000000\n",
            "2019    615.333333\n",
            "2020    453.080000\n",
            "2021    631.623468\n",
            "2022    615.921409\n",
            "2023    512.500000\n",
            "Name: Horsepower, dtype: float64\n"
          ]
        }
      ]
    },
    {
      "cell_type": "code",
      "source": [
        "df.columns = df.columns.str.strip()  # Remove any leading/trailing spaces\n",
        "\n",
        "\n",
        "\n"
      ],
      "metadata": {
        "id": "xmtk2N_1lQjU"
      },
      "execution_count": 61,
      "outputs": []
    },
    {
      "cell_type": "code",
      "source": [
        "\n",
        "\n",
        "# Create the scatter plot with a linear regression line\n",
        "plt.figure(figsize=(10, 6))\n",
        "sns.scatterplot(x='Horsepower', y='Price (in USD)', data=df, color='blue', label='Data points')\n",
        "sns.regplot(x='Horsepower', y='Price (in USD)', data=df, scatter=False, color='red', label='Regression line')\n",
        "plt.title('Price vs Horsepower')\n",
        "plt.xlabel('Horsepower')\n",
        "plt.ylabel('Price (in USD)')\n",
        "plt.legend()\n",
        "plt.show()\n",
        "\n"
      ],
      "metadata": {
        "colab": {
          "base_uri": "https://localhost:8080/",
          "height": 564
        },
        "id": "86-uUKKhlQoE",
        "outputId": "1d105356-a452-4ddf-a4a3-3eebaf45e446"
      },
      "execution_count": 62,
      "outputs": [
        {
          "output_type": "display_data",
          "data": {
            "text/plain": [
              "<Figure size 1000x600 with 1 Axes>"
            ],
            "image/png": "[encoded data removed]"
          },
          "metadata": {}
        }
      ]
    },
    {
      "cell_type": "code",
      "source": [
        "\n",
        "# Create a histogram\n",
        "plt.figure(figsize=(10, 6))\n",
        "plt.hist(df['0-60 MPH Time (seconds)'], bins=int((df['0-60 MPH Time (seconds)'].max() - df['0-60 MPH Time (seconds)'].min()) / 0.5), edgecolor='black')\n",
        "plt.title('Histogram of 0-60 MPH Times')\n",
        "plt.xlabel('0-60 MPH Time (seconds)')\n",
        "plt.ylabel('Frequency')\n",
        "plt.grid(True)\n",
        "plt.show()\n"
      ],
      "metadata": {
        "colab": {
          "base_uri": "https://localhost:8080/",
          "height": 564
        },
        "id": "J7vLW7rNlQri",
        "outputId": "63b96a5b-7937-4d90-e8a3-b265c0781b53"
      },
      "execution_count": 63,
      "outputs": [
        {
          "output_type": "display_data",
          "data": {
            "text/plain": [
              "<Figure size 1000x600 with 1 Axes>"
            ],
            "image/png": "[encoded data removed]"
          },
          "metadata": {}
        }
      ]
    },
    {
      "cell_type": "code",
      "source": [
        "\n",
        "\n",
        "# Filter cars with a price greater than $500,000\n",
        "filtered_df = df[df['Price (in USD)'] > 500000]\n",
        "\n",
        "# Sort by 'Horsepower' in descending order\n",
        "sorted_df = filtered_df.sort_values(by='Horsepower', ascending=False)\n",
        "\n",
        "# Display the filtered and sorted dataset\n",
        "print(sorted_df.head())\n"
      ],
      "metadata": {
        "colab": {
          "base_uri": "https://localhost:8080/"
        },
        "id": "_TZHZ5ADn1nu",
        "outputId": "ee157863-70f4-4393-ba2c-63bb4896c211"
      },
      "execution_count": 64,
      "outputs": [
        {
          "output_type": "stream",
          "name": "stdout",
          "text": [
            "     Car Make Car Model  Year Engine Size (L)  Horsepower Torque (lb-ft)  \\\n",
            "877     Lotus     Evija  2021        Electric      2000.0           1254   \n",
            "987     Lotus     Evija  2022        Electric      1973.0           1254   \n",
            "420     Lotus     Evija  2022        Electric      1973.0           1254   \n",
            "523     Lotus     Evija  2022        Electric      1973.0           1254   \n",
            "1003    Lotus     Evija  2021  Electric Motor      1972.0           1254   \n",
            "\n",
            "      0-60 MPH Time (seconds)  Price (in USD)  \n",
            "877                       2.8       2800000.0  \n",
            "987                       2.5       2000000.0  \n",
            "420                       2.5       2750000.0  \n",
            "523                       2.5       2600000.0  \n",
            "1003                      2.0       2000000.0  \n"
          ]
        }
      ]
    },
    {
      "cell_type": "code",
      "source": [
        "# Define the path for the new CSV file\n",
        "output_file_path = '/content/drive/MyDrive/dataset/cleaned_datase'\n",
        "\n",
        "# Export the cleaned and transformed dataset to CSV\n",
        "df.to_csv(output_file_path, index=False)\n",
        "\n",
        "print(f\"Cleaned dataset exported to {output_file_path}\")\n"
      ],
      "metadata": {
        "colab": {
          "base_uri": "https://localhost:8080/"
        },
        "id": "v5UvuT4-n1yH",
        "outputId": "6f690078-971c-47e6-b722-9748e7f26741"
      },
      "execution_count": 65,
      "outputs": [
        {
          "output_type": "stream",
          "name": "stdout",
          "text": [
            "Cleaned dataset exported to /content/drive/MyDrive/dataset/cleaned_datase\n"
          ]
        }
      ]
    }
  ]
}